{
  "nbformat": 4,
  "nbformat_minor": 0,
  "metadata": {
    "colab": {
      "provenance": [],
      "authorship_tag": "ABX9TyPhJXfEhhFOwwDcB4BxQ4q2",
      "include_colab_link": true
    },
    "kernelspec": {
      "name": "python3",
      "display_name": "Python 3"
    },
    "language_info": {
      "name": "python"
    }
  },
  "cells": [
    {
      "cell_type": "markdown",
      "metadata": {
        "id": "view-in-github",
        "colab_type": "text"
      },
      "source": [
        "<a href=\"https://colab.research.google.com/github/ghazaletlbn/machinelearning/blob/main/hw2.ipynb\" target=\"_parent\"><img src=\"https://colab.research.google.com/assets/colab-badge.svg\" alt=\"Open In Colab\"/></a>"
      ]
    },
    {
      "cell_type": "code",
      "execution_count": null,
      "metadata": {
        "id": "oatCa3MXn8Id",
        "colab": {
          "base_uri": "https://localhost:8080/"
        },
        "outputId": "4482448d-a6cc-4852-eb8d-f4d28697c64e"
      },
      "outputs": [
        {
          "output_type": "stream",
          "name": "stdout",
          "text": [
            "Drive already mounted at /content/gdrive; to attempt to forcibly remount, call drive.mount(\"/content/gdrive\", force_remount=True).\n"
          ]
        }
      ],
      "source": [
        "from google.colab import drive\n",
        "drive.mount('/content/gdrive')"
      ]
    },
    {
      "cell_type": "code",
      "source": [
        "import pandas as pd\n",
        "import numpy as np\n",
        "import matplotlib.pyplot as plt\n",
        "df_train = pd.read_csv('/content/gdrive/My Drive/dataset/train.csv')\n",
        "df_test = pd.read_csv('/content/gdrive/My Drive/dataset/test.csv')"
      ],
      "metadata": {
        "id": "NsA0n24coCoO"
      },
      "execution_count": null,
      "outputs": []
    },
    {
      "cell_type": "code",
      "source": [
        "y = df_train['Price'].values\n",
        "carid = df_test['CarId'].values\n",
        "df_te = df_test.drop(columns=['CarId','Vin'])\n",
        "df_tr = df_train.drop(columns=['Price','Vin'])\n",
        "df = pd.concat([df_tr, df_te], axis=0)\n",
        "masi_math\n",
        "\n",
        "df['Year'] = (df['Year'] - df['Year'].min())/(df['Year'].max()-df['Year'].min())\n",
        "df['Mileage'] = (df['Mileage'] - df['Mileage'].min())/(df['Mileage'].max()-df['Mileage'].min())\n",
        "df = pd.get_dummies(data=df, columns=['City','State','Make','Model'])\n",
        "train = df.iloc[:100000,:]\n",
        "test = df.iloc[100000:,:]\n",
        "x = train.values"
      ],
      "metadata": {
        "id": "by_ABR-CqDxp"
      },
      "execution_count": null,
      "outputs": []
    },
    {
      "cell_type": "code",
      "source": [
        "def lossfunction(x,y,w,b):\n",
        "  err=0\n",
        "  z = np.dot(x,w) + b\n",
        "  err = np.sum(np.multiply((z - y),(z - y)))/(2*len(x))\n",
        "  return err"
      ],
      "metadata": {
        "id": "NUElwxXCrZi0"
      },
      "execution_count": null,
      "outputs": []
    },
    {
      "cell_type": "code",
      "source": [
        "def gd(x,y,w,b):\n",
        "  z =  np.dot(x,w) + b\n",
        "  dw = (np.dot(x.T,(z - y)))/len(x)\n",
        "  db = (np.sum((z - y)))/len(x)\n",
        "  return dw, db\n"
      ],
      "metadata": {
        "id": "vFD30MmCs9Or"
      },
      "execution_count": null,
      "outputs": []
    },
    {
      "cell_type": "code",
      "source": [
        "def train(x, y, w, b, m, epochs):\n",
        "  for i in range(epochs):\n",
        "    dw, db = gd(x, y, w, b)\n",
        "    w = w - m * dw;\n",
        "    b = b - m * db;\n",
        "    if i % 100 == 0 :\n",
        "       print(\"epoch \", i, \" loss: \", lossfunction(x, y, w, b))\n",
        "  return w, b"
      ],
      "metadata": {
        "id": "O2VHKxsl3-qR"
      },
      "execution_count": null,
      "outputs": []
    },
    {
      "cell_type": "code",
      "source": [
        "wl = [10]*len(x.T)\n",
        "w= np.array(wl)\n",
        "b = 0\n",
        "m = 1.15\n",
        "e = 1001\n",
        "w,b = train(x,y,w,b,m,e)\n",
        "\n",
        "\n",
        "\n"
      ],
      "metadata": {
        "id": "zIfhpE-L4eYR",
        "colab": {
          "base_uri": "https://localhost:8080/"
        },
        "outputId": "fe056e16-6aff-41d8-aeb5-c9a600a1b6ba"
      },
      "execution_count": null,
      "outputs": [
        {
          "output_type": "stream",
          "name": "stdout",
          "text": [
            "epoch  0  loss:  312115464.1838554\n",
            "epoch  100  loss:  104236286.77952874\n",
            "epoch  200  loss:  55923224.73405542\n",
            "epoch  300  loss:  42280705.33275474\n",
            "epoch  400  loss:  37428165.49498978\n",
            "epoch  500  loss:  34996968.28723642\n",
            "epoch  600  loss:  33355921.101620026\n",
            "epoch  700  loss:  32055452.266883764\n",
            "epoch  800  loss:  30951721.845547974\n",
            "epoch  900  loss:  29986173.54813813\n",
            "epoch  1000  loss:  29127753.6353093\n"
          ]
        }
      ]
    },
    {
      "cell_type": "code",
      "source": [
        "xt = test.values\n",
        "yt =  np.dot(xt,w) + b\n"
      ],
      "metadata": {
        "id": "PObqsHuR6fEI"
      },
      "execution_count": null,
      "outputs": []
    },
    {
      "cell_type": "code",
      "source": [
        "d = {'CarId':carid , 'Price':yt}\n",
        "df_final = pd.DataFrame(data=d)"
      ],
      "metadata": {
        "id": "fbQnVWv8Zu7-"
      },
      "execution_count": null,
      "outputs": []
    },
    {
      "cell_type": "code",
      "source": [
        "df_final.to_csv('/content/gdrive/My Drive/dataset/answer.csv',index=False)"
      ],
      "metadata": {
        "id": "uqN9yD4_Z4l3"
      },
      "execution_count": null,
      "outputs": []
    }
  ]
}